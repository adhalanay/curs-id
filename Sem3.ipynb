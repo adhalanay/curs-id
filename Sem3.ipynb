{
 "cells": [
  {
   "cell_type": "code",
   "execution_count": 3,
   "id": "25d9714f",
   "metadata": {},
   "outputs": [
    {
     "data": {
      "text/plain": [
       "[ 5 -2  0]\n",
       "[-2  6  2]\n",
       "[ 0  2  7]"
      ]
     },
     "execution_count": 3,
     "metadata": {},
     "output_type": "execute_result"
    }
   ],
   "source": [
    "A=matrix([[5,-2,0],[-2,6,2],[0,2,7]])\n",
    "A"
   ]
  },
  {
   "cell_type": "code",
   "execution_count": 4,
   "id": "b2c7e138",
   "metadata": {},
   "outputs": [
    {
     "data": {
      "text/plain": [
       "[9, 6, 3]"
      ]
     },
     "execution_count": 4,
     "metadata": {},
     "output_type": "execute_result"
    }
   ],
   "source": [
    "A.eigenvalues()"
   ]
  },
  {
   "cell_type": "code",
   "execution_count": 6,
   "id": "4a46fb16",
   "metadata": {},
   "outputs": [
    {
     "data": {
      "text/plain": [
       "[(9,\n",
       "  [\n",
       "  (1, -2, -2)\n",
       "  ],\n",
       "  1),\n",
       " (6,\n",
       "  [\n",
       "  (1, -1/2, 1)\n",
       "  ],\n",
       "  1),\n",
       " (3,\n",
       "  [\n",
       "  (1, 1, -1/2)\n",
       "  ],\n",
       "  1)]"
      ]
     },
     "execution_count": 6,
     "metadata": {},
     "output_type": "execute_result"
    }
   ],
   "source": [
    "A.eigenvectors_left()"
   ]
  },
  {
   "cell_type": "code",
   "execution_count": 10,
   "id": "b0ca864c",
   "metadata": {},
   "outputs": [
    {
     "data": {
      "text/plain": [
       "-37/9"
      ]
     },
     "execution_count": 10,
     "metadata": {},
     "output_type": "execute_result"
    }
   ],
   "source": [
    "simplify(6-3-64/9)"
   ]
  },
  {
   "cell_type": "code",
   "execution_count": 8,
   "id": "f575b09b",
   "metadata": {},
   "outputs": [
    {
     "ename": "SyntaxError",
     "evalue": "invalid syntax (795417793.py, line 1)",
     "output_type": "error",
     "traceback": [
      "\u001b[0;36m  Cell \u001b[0;32mIn[8], line 1\u001b[0;36m\u001b[0m\n\u001b[0;31m    simplify(%Integer(7))\u001b[0m\n\u001b[0m             ^\u001b[0m\n\u001b[0;31mSyntaxError\u001b[0m\u001b[0;31m:\u001b[0m invalid syntax\n"
     ]
    }
   ],
   "source": [
    "simplify(%7)"
   ]
  },
  {
   "cell_type": "code",
   "execution_count": 11,
   "id": "0c98b6c8",
   "metadata": {},
   "outputs": [
    {
     "data": {
      "text/plain": [
       "[ 0  2 -2]\n",
       "[ 2  1  0]\n",
       "[-2  0 -1]"
      ]
     },
     "execution_count": 11,
     "metadata": {},
     "output_type": "execute_result"
    }
   ],
   "source": [
    "B=matrix([[0,2,-2],[2,1,0],[-2,0,-1]])\n",
    "B"
   ]
  },
  {
   "cell_type": "code",
   "execution_count": 12,
   "id": "04d0e4b6",
   "metadata": {},
   "outputs": [
    {
     "data": {
      "text/plain": [
       "[(3,\n",
       "  [\n",
       "  (1, 1, -1/2)\n",
       "  ],\n",
       "  1),\n",
       " (0,\n",
       "  [\n",
       "  (1, -2, -2)\n",
       "  ],\n",
       "  1),\n",
       " (-3,\n",
       "  [\n",
       "  (1, -1/2, 1)\n",
       "  ],\n",
       "  1)]"
      ]
     },
     "execution_count": 12,
     "metadata": {},
     "output_type": "execute_result"
    }
   ],
   "source": [
    "B.eigenvectors_left()"
   ]
  },
  {
   "cell_type": "code",
   "execution_count": null,
   "id": "3f7af507",
   "metadata": {},
   "outputs": [],
   "source": []
  }
 ],
 "metadata": {
  "kernelspec": {
   "display_name": "SageMath 9.7",
   "language": "sage",
   "name": "sagemath"
  },
  "language_info": {
   "codemirror_mode": {
    "name": "ipython",
    "version": 3
   },
   "file_extension": ".py",
   "mimetype": "text/x-python",
   "name": "python",
   "nbconvert_exporter": "python",
   "pygments_lexer": "ipython3",
   "version": "3.11.3"
  }
 },
 "nbformat": 4,
 "nbformat_minor": 5
}
