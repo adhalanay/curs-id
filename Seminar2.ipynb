{
 "cells": [
  {
   "cell_type": "code",
   "execution_count": 10,
   "id": "a4047a9f-ef8c-4156-aa9a-6199d0e439dc",
   "metadata": {},
   "outputs": [
    {
     "data": {
      "text/plain": [
       "3×3 Matrix{Float64}:\n",
       " 4.0  -1.0     -2.0\n",
       " 2.0   1.0001  -2.0\n",
       " 1.0  -1.0      1.0"
      ]
     },
     "execution_count": 10,
     "metadata": {},
     "output_type": "execute_result"
    }
   ],
   "source": [
    "A=[4 -1 -2;2 1.0001 -2;1 -1 1]"
   ]
  },
  {
   "cell_type": "code",
   "execution_count": 11,
   "id": "9681299c-f57b-4b00-ad70-c5d1d7dd2dd9",
   "metadata": {},
   "outputs": [
    {
     "data": {
      "text/plain": [
       "3-element Vector{Float64}:\n",
       " 1.0000999999999993\n",
       " 1.9999999999999993\n",
       " 2.9999999999999987"
      ]
     },
     "execution_count": 11,
     "metadata": {},
     "output_type": "execute_result"
    }
   ],
   "source": [
    "using LinearAlgebra\n",
    "eigvals(A)"
   ]
  },
  {
   "cell_type": "code",
   "execution_count": 12,
   "id": "902ca314-0812-4729-824b-1011ef1f3eda",
   "metadata": {},
   "outputs": [
    {
     "data": {
      "text/plain": [
       "3×3 Matrix{Float64}:\n",
       " -0.57737   0.707107    -0.707071\n",
       " -0.577312  7.7704e-16  -0.707142\n",
       " -0.57737   0.707107     3.53571e-5"
      ]
     },
     "execution_count": 12,
     "metadata": {},
     "output_type": "execute_result"
    }
   ],
   "source": [
    "eigvecs(A)"
   ]
  },
  {
   "cell_type": "code",
   "execution_count": 13,
   "id": "b6384503-4b12-4183-8ca8-1eca54c36b5e",
   "metadata": {},
   "outputs": [
    {
     "data": {
      "text/plain": [
       "Eigen{Float64, Float64, Matrix{Float64}, Vector{Float64}}\n",
       "values:\n",
       "3-element Vector{Float64}:\n",
       " 1.0000999999999993\n",
       " 1.9999999999999993\n",
       " 2.9999999999999987\n",
       "vectors:\n",
       "3×3 Matrix{Float64}:\n",
       " -0.57737   0.707107    -0.707071\n",
       " -0.577312  7.7704e-16  -0.707142\n",
       " -0.57737   0.707107     3.53571e-5"
      ]
     },
     "execution_count": 13,
     "metadata": {},
     "output_type": "execute_result"
    }
   ],
   "source": [
    "eigen(A)"
   ]
  },
  {
   "cell_type": "code",
   "execution_count": null,
   "id": "cdd9f1dd-8551-408a-a9cf-c18ea5342ebd",
   "metadata": {},
   "outputs": [],
   "source": []
  }
 ],
 "metadata": {
  "kernelspec": {
   "display_name": "Julia 1.7.0",
   "language": "julia",
   "name": "julia-1.7"
  },
  "language_info": {
   "file_extension": ".jl",
   "mimetype": "application/julia",
   "name": "julia",
   "version": "1.7.2"
  },
  "widgets": {
   "application/vnd.jupyter.widget-state+json": {
    "state": {},
    "version_major": 2,
    "version_minor": 0
   }
  }
 },
 "nbformat": 4,
 "nbformat_minor": 5
}
