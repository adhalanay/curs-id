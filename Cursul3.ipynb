{
 "cells": [
  {
   "cell_type": "markdown",
   "id": "c2df542e-4661-44e3-bf80-38ea907c849a",
   "metadata": {},
   "source": [
    "## Subspații invariante. Vectori și valori proprii."
   ]
  },
  {
   "cell_type": "markdown",
   "id": "601c2cdf-03e8-422a-bfd7-a1ce7e9ec5d0",
   "metadata": {},
   "source": [
    "În această parte studiem endomorfisme $T:L \\to L$. Am văzut că la schimbarea bazei matricea lui $T$ se transformă după formula $A'=C^{-1}AC$. Două matrice\n",
    "care satisfac această egalitate se numesc asemenea. Se vede că două matrice asemenea sînt asociate aceluiași endomorfism.\n",
    "\n",
    "**Definiție** Un subspațiu $L' \\subset L$ se numește invariant pentru $T$, dacă pentru orice $\\mathbf{x} \\in L'$, $T(\\mathbf{x}) \\in L'$.\n",
    "\n",
    "Evident că dacă $L'$ este un spațiu invariant, atunci $T$ induce un endomorfism $T':L' \\to L'$. Dacă luăm o bază $\\mathbf{e}_1,\\dots,\\mathbf{e}_m$ a lui \n",
    "$L'$ și o completăm la o bază $\\mathbf{e}_1,\\dots,\\mathbf{e}_n$ a a lui $L$, atunci matricea lui $T$ este de forma\n",
    "$$\n",
    "\\left(\\begin{matrix}A' & B ' \\\\ 0 & C'\\end{matrix}\\right).\n",
    "$$\n",
    "\n",
    "Dacă este posibil să descompunem $L=L' \\oplus L''$ cu $L''$ invariant la rîndul său, atunci $B'=0$ și matricea lui $T$ este de forma \n",
    "$$\n",
    "\\left(\\begin{matrix}A' & 0 \\\\ 0 & C'\\end{matrix}\\right),\n",
    "$$\n",
    "unde $C'$ este matricea restricției lui $T$ la $L''$. Analog dacă $L=L_1 \\oplus \\dots \\oplus L_k$ cu fiecare subspațiu invariant, atunci matricea lui $T$ \n",
    "este bloc-diagonală\n",
    "$$\n",
    "\\left(\\begin{matrix}A_1 & 0 & \\ldots & 0 \\\\ 0 & A_2 & \\ldots & 0 \\\\ \\vdots & \\vdots & \\ddots & \\vdots \\\\ 0 & 0 & \\ldots & A_k\\end{matrix}\\right).\n",
    "$$\n",
    "\n",
    "Cel mai simplu caz este cel al unui subspațiu invariant de dimensiune $1$. În acest caz există un vector nenul $\\mathbf{e}$ și un scalar $\\lambda$ astfel \n",
    "încît $T(\\mathbf{e})=\\lambda\\mathbf{e}.$\n",
    "\n",
    "**Definiție** Dacă vectorul $\\mathbf{e}\\neq 0$ satisface relația de mai sus spunem că este **vector propriu**, iar scalarul $\\lambda$ se numește **valoare\n",
    "proprie**.\n",
    "\n",
    "Toți vectorii proprii corespunzători valorii proprii $\\lambda$ împreună cu $0$ formează un subspațiu vectorial, numit subspațiul propriu corespunzător lui $\\lambda$, notat\n",
    "cu $L_\\lambda$.\n",
    "\n",
    "### Cum calculăm practic vectorii și valorile proprii\n",
    "\n",
    "Luăm o bază arbitrară din $L$ și scriem matricea $A$ a lui $T$ în raport cu aceasta. Presupunem că vectorul propriu \n",
    "$\\mathbf{e}=x_1\\mathbf{e}_1+\\dots+x_m\\mathbf{e}_m$. Atunci $T(\\mathbf{e})$ va avea componentele \n",
    "$$\n",
    "A\\cdot\\left(\\begin{matrix}x_1 \\\\ \\vdots \\\\ x_m\\end{matrix}\\right)=\\lambda\\cdot\\left(\\begin{matrix}x_1 \\\\ \\vdots \\\\ x_m\\end{matrix}\\right).\n",
    "$$\n",
    "Prin urmare sistemul $(A-\\lambda I_m)\\mathbf{x}=0$ va trebui să aibă soluții nenule. Aceasta se întîmplă dacă și numai dacă $det(A-\\lambda I_m)=0$.\n",
    "Acesta este un polinom $P_A(\\lambda)$ de gradul $m$ în $\\lambda$, numit **polinomul caracteristic** al lui $A.$ \n",
    "\n",
    "În mod practic mai întîi determinăm rădăcinile polinomului caracteristic. Acestea vor fi valorile proprii, apoi pentru fiecare în parte rezolvăm sistemul \n",
    "corespunzător și obținem vectorii proprii.\n",
    "\n",
    "Proprietăți și observații:\n",
    " - Polinomul caracteristic nu depinde de alegerea bazei, ci doar de endomorfism;\n",
    " - Se poate ca un endomorfism să nu aibă vectori proprii (și deci nici valori proprii);\n",
    " - Dacă există o bază a lui $L$ formată din vectori proprii, atunci matricea lui $T$ va fi de forma\n",
    " $$\n",
    "\\left(\\begin{matrix}\\lambda_1 & 0 & \\ldots & 0 \\\\ 0 & \\lambda_2 & \\ldots & 0 \\\\ \\vdots & \\vdots & \\ddots & \\vdots \\\\ 0 & 0 & \\ldots & \\lambda_k\\end{matrix}\\right).\n",
    "$$\n",
    "și $T$ se numește diagonalizabil.\n",
    "  - Unei valori proprii $\\lambda$ îi putem asocia două numere: multiplicitate aritmetică $m_\\lambda$=multiplicitatea lui $\\lambda$ ca rădăcină a lui \n",
    "  $P_T(\\lambda)$ și multiplicitatea geometrică $g_\\lambda=\\text{dim }L_\\lambda$. Întotdeauna $g_\\lambda\\leq m_\\lambda;$\n",
    "  - la valori proprii distincte corespund vectori proprii liniar-independenți;\n",
    "  - Un endomorfism peste un spațiu complex este diagonalizabil dacă polinomul său caracteristic are doar rădăcini simple;\n",
    "  - Un endomorfism este diagonalizabil dacă și numai dacă $g_\\lambda=m_\\lambda$ pentru orice valoare proprie $\\lambda$.\n"
   ]
  },
  {
   "cell_type": "code",
   "execution_count": 2,
   "id": "60083af0-4cde-4a47-99a3-c98a34bfe905",
   "metadata": {
    "jupyter": {
     "source_hidden": true
    }
   },
   "outputs": [
    {
     "data": {
      "text/plain": [
       "[ 4 -1 -2]\n",
       "[ 2  1 -2]\n",
       "[ 1 -1  1]"
      ]
     },
     "execution_count": 2,
     "metadata": {},
     "output_type": "execute_result"
    }
   ],
   "source": [
    "A=matrix([[4,-1,-2],[2,1,-2],[1,-1,1]])\n",
    "A"
   ]
  },
  {
   "cell_type": "code",
   "execution_count": 3,
   "id": "1b0f82c7-76d6-49e6-a95f-684ab28eab19",
   "metadata": {},
   "outputs": [
    {
     "data": {
      "text/plain": [
       "x^3 - 6*x^2 + 11*x - 6"
      ]
     },
     "execution_count": 3,
     "metadata": {},
     "output_type": "execute_result"
    }
   ],
   "source": [
    "P=A.charpoly()\n",
    "P"
   ]
  },
  {
   "cell_type": "code",
   "execution_count": 4,
   "id": "925684bd-db67-4415-a064-197d81021cfa",
   "metadata": {
    "jupyter": {
     "source_hidden": true
    }
   },
   "outputs": [
    {
     "data": {
      "text/plain": [
       "(x - 3) * (x - 2) * (x - 1)"
      ]
     },
     "execution_count": 4,
     "metadata": {},
     "output_type": "execute_result"
    }
   ],
   "source": [
    "P.factor()"
   ]
  },
  {
   "cell_type": "code",
   "execution_count": 5,
   "id": "c3765862-3d17-40ff-bee3-d3e76fcbf949",
   "metadata": {
    "jupyter": {
     "source_hidden": true
    }
   },
   "outputs": [
    {
     "data": {
      "text/plain": [
       "[3, 2, 1]"
      ]
     },
     "execution_count": 5,
     "metadata": {},
     "output_type": "execute_result"
    }
   ],
   "source": [
    "A.eigenvalues()"
   ]
  },
  {
   "cell_type": "code",
   "execution_count": 6,
   "id": "d414e084-bb52-4ec2-ac13-3324ec4915bb",
   "metadata": {
    "jupyter": {
     "source_hidden": true
    }
   },
   "outputs": [
    {
     "data": {
      "text/plain": [
       "[(3,\n",
       "  [\n",
       "  (1, 1, 0)\n",
       "  ],\n",
       "  1),\n",
       " (2,\n",
       "  [\n",
       "  (1, 0, 1)\n",
       "  ],\n",
       "  1),\n",
       " (1,\n",
       "  [\n",
       "  (1, 1, 1)\n",
       "  ],\n",
       "  1)]"
      ]
     },
     "execution_count": 6,
     "metadata": {},
     "output_type": "execute_result"
    }
   ],
   "source": [
    "A.eigenvectors_right()"
   ]
  },
  {
   "cell_type": "code",
   "execution_count": 7,
   "id": "d706bb54-c270-4a48-8152-badc5718e606",
   "metadata": {
    "jupyter": {
     "source_hidden": true
    }
   },
   "outputs": [],
   "source": [
    "B=matrix([[4,-4,2],[2,-2,1],[-4,4,-2]])"
   ]
  },
  {
   "cell_type": "code",
   "execution_count": 8,
   "id": "351fe283-abd5-40f4-b074-cb5595dd702b",
   "metadata": {
    "jupyter": {
     "source_hidden": true
    }
   },
   "outputs": [
    {
     "data": {
      "text/plain": [
       "x^3"
      ]
     },
     "execution_count": 8,
     "metadata": {},
     "output_type": "execute_result"
    }
   ],
   "source": [
    "P=B.charpoly()\n",
    "P"
   ]
  },
  {
   "cell_type": "code",
   "execution_count": 9,
   "id": "a50c9d08-2524-457a-90d7-dca9daa0e8fa",
   "metadata": {
    "jupyter": {
     "source_hidden": true
    }
   },
   "outputs": [
    {
     "data": {
      "text/plain": [
       "[(0,\n",
       "  [\n",
       "  (1, 0, -2),\n",
       "  (0, 1, 2)\n",
       "  ],\n",
       "  3)]"
      ]
     },
     "execution_count": 9,
     "metadata": {},
     "output_type": "execute_result"
    }
   ],
   "source": [
    "B.eigenvectors_right()"
   ]
  },
  {
   "cell_type": "code",
   "execution_count": 10,
   "id": "653094f4-c8ae-4bf3-84c0-564297450c74",
   "metadata": {
    "jupyter": {
     "source_hidden": true
    }
   },
   "outputs": [
    {
     "data": {
      "text/plain": [
       "[0 1|0]\n",
       "[0 0|0]\n",
       "[---+-]\n",
       "[0 0|0]"
      ]
     },
     "execution_count": 10,
     "metadata": {},
     "output_type": "execute_result"
    }
   ],
   "source": [
    "B.jordan_form()"
   ]
  }
 ],
 "metadata": {
  "kernelspec": {
   "display_name": "SageMath 10.1",
   "language": "sage",
   "name": "sagemath-dev"
  },
  "language_info": {
   "codemirror_mode": {
    "name": "ipython",
    "version": 3
   },
   "file_extension": ".py",
   "mimetype": "text/x-python",
   "name": "python",
   "nbconvert_exporter": "python",
   "pygments_lexer": "ipython3",
   "version": "3.13.2"
  }
 },
 "nbformat": 4,
 "nbformat_minor": 5
}
