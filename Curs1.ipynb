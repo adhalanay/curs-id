{
 "cells": [
  {
   "cell_type": "markdown",
   "id": "2fedfb53-aacc-4607-b3b4-7afcb74a1a93",
   "metadata": {},
   "source": [
    "## Sisteme Liniare"
   ]
  },
  {
   "cell_type": "markdown",
   "id": "0fe51b3d-9dae-4427-a0fe-010720c6be88",
   "metadata": {},
   "source": [
    "### Ecuații liniare"
   ]
  },
  {
   "cell_type": "markdown",
   "id": "918682ff-a8d8-450a-913c-652aafd9817a",
   "metadata": {},
   "source": [
    "Una dintre problemele fundamentale ale Algebrei Liniare este aceea de a studia mulțimea soluțiilor unui sistem liniar. Mai precis ne interesează să rezolvăm simultan mai multe ecuații liniare de forma \n",
    "$$\n",
    "\\left\\{\\begin{matrix} a_{11}x_1 & + & \\dots & + & a_{1n}x_n & = & b_1 \\\\\n",
    "a_{21}x_1 & + & \\dots & + & a_{2n}x_n & = & b_2 \\\\\n",
    "\\ldots\\\\\n",
    "a_{m1}x_1 & + & \\dots & + & a_{mn}x_n & = & b_m. \n",
    "\\end{matrix}\\right. (S1)\n",
    "$$\n",
    "\n",
    "Un astfel de sistem va fi scris mai pe scurt $A\\cdot\\mathbf{x}=\\mathbf{b}$, unde $A$ este o matrice cu $m$ linii și $n$ coloane, $\\mathbf{x}$ și $\\mathbf{b}$ sînt  matrice cu o coloană. Matricea $A$ se numește  *matricea sistemului*, $\\mathbf{x}$ se numește  *vectorul variabilelor*, iar $\\mathbf{b}$ se numește *vectorul termenilor constanți*. De asemenea vom folosi *matricea extinsă* a sistemului \n",
    "$$\n",
    "\\overline{A}=\\left(\\begin{matrix} a_{11} & \\dots & a_{1n} & b_1 \\\\ \n",
    "\\ldots \\\\\n",
    "a_{m1} & \\dots & a_{mn} & b_m \n",
    "\\end{matrix}\n",
    "\\right)\n",
    "$$\n",
    "\n",
    "Să ne uităm mai atent la expresia $a_1c_1+\\dots + a_nc_n$ atunci cînd lăsăm valorile $c_1,\\dots, c_n$ să varieze liber. Obținem astfel o funcție care asociază\n",
    "fiecărei linii $\\left(c_1,\\dots,c_n\\right)$ un număr. \n",
    "\n",
    "**Definiție** O funcție $F$ care asociază unei linii de lungime $n$ un număr și pentru care există niște coefiecienți $a_1, \\dots,a_n$ astfel încît $F(c_1,\\dots,c_n) = a_1c_1+\\dots + a_nc_n$ se numește **liniară**.\n",
    "\n",
    "Această definiție generalizează noțiunea de proporționalitate directă din cazul numerelor reale. Ca să exploatăm această analogie mai departe vom introduce niște operații pentru linii de numere:\n",
    "\n",
    "**Definiție** Fie $\\mathbf{c}$ și $\\mathbf{d}$ două linii de numere $\\mathbf{c}=\\left(c_1,\\dots,c_n\\right)$ și $\\mathbf{d}=\\left(d_1,\\dots,d_n\\right)$. Suma lor\n",
    "$\\mathbf{c}+\\mathbf{d}=\\left(c_1+d_1,\\dots,c_n+d_n\\right)$. Produsul dintre un număr $p$ și o linie $\\mathbf{c}$ este $p\\mathbf{c}=(pc_1,\\dots,pc_n)$.\n",
    "\n",
    "**Teoremă** O funcție este liniară dacă și numai dacă $F(\\mathbf{c}+\\mathbf{d})=F(\\mathbf{c})+F(\\mathbf{d})$ și $F(p\\mathbf{c})=pF(\\mathbf{c})$.\n",
    "\n",
    "Pentru două funcții liniare $F$ și $G$ definite pentru linii de aceeași lungime\n",
    "  - suma lor $F+G$ prin $(F+G)(\\mathbf{c})=F(\\mathbf{c})+G(\\mathbf{c});$\n",
    "  - produsul dintre o funcție $F$ și un număr $p$ prin $(pF)(\\mathbf{c})=p(F(\\mathbf{c})).$\n",
    "  \n",
    "Sistemul liniar $(S1)$ poate fi acum rescris cu ajutorul a $m$ funcții liniare:\n",
    "$$\n",
    "\\left\\{\\begin{matrix} F_1(\\mathbf{x}) & = & b_1 \\\\\n",
    "F_2(\\mathbf{x} & = & b_2 \\\\\n",
    "\\ldots \\\\\n",
    "F_m(\\mathbf{x}) & = & b_m. \n",
    "\\end{matrix}\\right. \n",
    "$$\n",
    "cu $F_i(\\mathbf{x})=a_{i1}x_1+\\dots+a_{in}x_n.$\n",
    "\n",
    "O linie $\\mathbf{c}$ se numește soluție a sistemului dacă înlocuind $\\mathbf{x}$ cu $\\mathbf{c}$ în fiecare ecuație obținem identități:$F_1(\\mathbf{c})=b_1,\\dots,\n",
    "F_m(\\mathbf{c})=b_m$. \n",
    "\n",
    "Nu orice sistem are o soluție. Dacă sistemul are soluție, acesta se numește **compatibil**. Dacă nu are nici o soluție, sistemul se numește **incompatibil**. Un sistem compatibil avînd o singură soluție se numește **determinat**, iar dacă are mai multe **nedeterminat**.\n",
    "\n",
    "Sistemul \n",
    "$$\n",
    "\\left\\{\\begin{matrix} x & = & y \\\\ \n",
    "x+y & = & 1.\\end{matrix}\\right.\n",
    "$$\n",
    "este determinat. Geometric poate fi intepretat ca punctul de intersecție a două drepte care nu sînt paralele. \n",
    "\n",
    "Pe de altă parte sistemul \n",
    "$$\n",
    "\\left\\{\\begin{matrix} x-2y & = & 3 \\\\ \n",
    "2x-4y & = & 6.\\end{matrix}\\right.\n",
    "$$\n",
    "este nedeterminat, a doua ecuație fiind doar prima înmulțită cu $2$. Se vede că pentru orice valoare a lui $y$ găsim $x=3+2y$. Sistemul are deci o infinitate de soluții.\n",
    "\n",
    "**Teoremă** Dacă un sistem este compatibil nedeterminat atunci are o infinitate de soluții.\n",
    "\n"
   ]
  },
  {
   "cell_type": "markdown",
   "id": "89da9997-2461-47b8-8ae4-304c22c61546",
   "metadata": {},
   "source": [
    "### Metoda Gauss"
   ]
  },
  {
   "cell_type": "markdown",
   "id": "8ee8ea31-3489-4dc2-8851-7c987e1ecd5a",
   "metadata": {},
   "source": [
    "Vom prezenta o metodă pentru a determina dacă un sistem este compatibil sau nu. Vom spune că două sisteme liniare sînt echivalente dacă au exact aceleași soluții.\n",
    "Ideea metodei Gauss este de a manipula ecuațiile unui sistem liniar pentru a obține un sistem echivalent, dar mai simplu. Operațiile pe care le facem sînt următoarele:\n",
    " - permutarea a două ecuații;\n",
    " - adăugarea la una dintre ecuații a unei alte ecuații înmulțită cu un număr.\n",
    " \n",
    " Se subînțelege că celelalte ecuații rămîn neschimbate. \n",
    " \n",
    " Acum putem prezenta algoritmul lui Gauss. Vom începe prin a permuta prima ecuație cu o ecuație avînd coeficientul din fața lui $a_1$ diferit de $0$. Dacă acest lucru nu este posibil, aceasta înseamnă că variabila $x_1$ nu apare explicit și vom renumerota variabilele astfel încît să obținem $a_{11} \\neq 0$.\n",
    " \n",
    " Acum aplicăm o serie de transformări de al doilea tip. Anume vom înmulți prima ecuație cu cîte un număr $c_2,c_3,\\dots,c_m$ și o vom adăuga la ecuațiile corespunzătoare astfel ca în fiecare din ele coeficientul lui $x_1$ să fie $0$. Evident avem $$c_2=-\\frac{a_{21}}{a_{11}},\\dots,c_m=-\\frac{a_{m1}}{a_{11}}.$$\n",
    " \n",
    " Obținem astfel un sistem de forma\n",
    " $$\n",
    " \\left\\{ \\begin{matrix} a_{11}x_1 & + & a_{12}x_2 & + & \\dots & + & a_{1n}x_n & = & b_1 \\\\\n",
    "  & & a'_{22}x_2 & + & \\dots & + & a'_{2n} x_n & = & b'_2 \\\\\n",
    "  \\ldots \\\\\n",
    "  & & a'_{m2}x_2 & + & \\dots & + & a'_{mn} x_n & = & b'_m\n",
    "  \\end{matrix}\n",
    "  \\right.\n",
    " $$"
   ]
  },
  {
   "cell_type": "code",
   "execution_count": null,
   "id": "dbf002d2-676f-4b86-bc79-3b3eb4372f8c",
   "metadata": {},
   "outputs": [],
   "source": []
  }
 ],
 "metadata": {
  "kernelspec": {
   "display_name": "SageMath 9.5",
   "language": "sage",
   "name": "sagemath"
  },
  "language_info": {
   "codemirror_mode": {
    "name": "ipython",
    "version": 3
   },
   "file_extension": ".py",
   "mimetype": "text/x-python",
   "name": "python",
   "nbconvert_exporter": "python",
   "pygments_lexer": "ipython3",
   "version": "3.10.2"
  }
 },
 "nbformat": 4,
 "nbformat_minor": 5
}
